{
  "nbformat": 4,
  "nbformat_minor": 0,
  "metadata": {
    "colab": {
      "provenance": [],
      "gpuType": "T4"
    },
    "kernelspec": {
      "name": "python3",
      "display_name": "Python 3"
    },
    "language_info": {
      "name": "python"
    },
    "accelerator": "GPU"
  },
  "cells": [
    {
      "cell_type": "code",
      "source": [
        "#@title نصب پکیج های مورد نیاز (1 دقیقه زمان میبره)\n",
        "!pip install google-generativeai\n",
        "!pip install pysrt\n",
        "!pip install tqdm\n",
        "!pip install ipywidgets\n",
        "!jupyter nbextension enable --py widgetsnbextension"
      ],
      "metadata": {
        "cellView": "form",
        "id": "sMUHXCmrAxZv"
      },
      "execution_count": null,
      "outputs": []
    },
    {
      "cell_type": "code",
      "source": [
        "#@title فراخوانی کلید دسترسی\n",
        "import google.generativeai as genai\n",
        "\n",
        "# @markdown  **لطفاً کلید دسترسی خود را در کادر زیر وارد کنید (API KEY)**\n",
        "GOOGLE_API_KEY = \"\"  #@param {type:\"string\"}\n",
        "\n",
        "if not GOOGLE_API_KEY:\n",
        "  print(\"هشدار: کلید API وارد نشده است.\")\n",
        "else:\n",
        "  genai.configure(api_key=GOOGLE_API_KEY)\n",
        "  print(\"کلید API با موفقیت پیکربندی شد.\")"
      ],
      "metadata": {
        "cellView": "form",
        "id": "3you3uNiA2r9"
      },
      "execution_count": null,
      "outputs": []
    },
    {
      "cell_type": "code",
      "source": [
        "#@title آپلود زیرنویس زبان اصلی\n",
        "from google.colab import files\n",
        "import io\n",
        "import pysrt\n",
        "import os\n",
        "\n",
        "#@markdown #### فقط در صورتی که ادامه ترجمه را از بکاپ قبلی انجام می‌دهید، تیک بزنید\n",
        "is_backup = False #@param {type:\"boolean\"}\n",
        "\n",
        "uploaded = files.upload()\n",
        "filename = list(uploaded.keys())[0]\n",
        "\n",
        "if is_backup:\n",
        "    # اگر فایل آپلود شده \"backup.srt\" نیست، سپس بکاپ قبلی را حذف کن\n",
        "    if filename != \"backup.srt\":\n",
        "        if os.path.exists(\"backup.srt\"):\n",
        "            os.remove(\"backup.srt\")\n",
        "        os.rename(filename, \"backup.srt\")\n",
        "        filename = \"backup.srt\"\n",
        "\n",
        "subs = pysrt.open(filename)\n",
        "print(f\"\\nتعداد کل دیالوگ‌ها: {len(subs)}\")\n"
      ],
      "metadata": {
        "cellView": "form",
        "id": "YNyB0yQXA-V9"
      },
      "execution_count": null,
      "outputs": []
    },
    {
      "cell_type": "code",
      "source": [
        "#@title ترجمه به فارسی عامیانه\n",
        "import pysrt\n",
        "import google.generativeai as genai\n",
        "from tqdm.notebook import tqdm\n",
        "import time\n",
        "from tenacity import retry, stop_after_attempt, wait_exponential\n",
        "\n",
        "#@markdown ### `تنظیم زمان استراحت بین هر درخواست (ثانیه) ترجیحا 3 یا بیشتر`\n",
        "SLEEP_TIME = 3 #@param {type:\"slider\", min:2, max:5, step:0.5}\n",
        "\n",
        "#@markdown #### انتخاب مدل هوش مصنوعی\n",
        "MODEL_NAME = \"gemini-1.5-flash\" #@param [\"gemini-2.0-flash-thinking-exp-01-21\", \"gemini-1.5-flash\"]\n",
        "#@markdown #### --------------------------------------------------\n",
        "#@markdown #### (توصیه نمیشود) استفاده از پرامپت سفارشی\n",
        "USE_CUSTOM_PROMPT = False #@param {type:\"boolean\"}\n",
        "\n",
        "#@markdown #### تیک بالا مربوط به فعالسازی پرامپت سفارشی است . در حالت عادی نیازی به فعالسازی نیست\n",
        "#@markdown #### استفاده از پرامپت شخصی نیازمند آزمون خطاست و متن زیر فقط یک مثال است\n",
        "CUSTOM_PROMPT = \"متن زیر را به فارسی محاوره ای و به زبان کاملا عامیانه ترجمه کن بدون اینکه یک کلمه اضافه بگی و بدون اینکه توضیح اضافه بدی\" #@param {type:\"string\"}\n",
        "\n",
        "@retry(stop=stop_after_attempt(3), wait=wait_exponential(multiplier=1, min=4, max=10))\n",
        "def translate_subtitle_with_retry(text):\n",
        "    model = genai.GenerativeModel(MODEL_NAME, safety_settings={\n",
        "        genai.types.HarmCategory.HARM_CATEGORY_HARASSMENT: genai.types.HarmBlockThreshold.BLOCK_NONE,\n",
        "        genai.types.HarmCategory.HARM_CATEGORY_HATE_SPEECH: genai.types.HarmBlockThreshold.BLOCK_NONE,\n",
        "        genai.types.HarmCategory.HARM_CATEGORY_SEXUALLY_EXPLICIT: genai.types.HarmBlockThreshold.BLOCK_NONE,\n",
        "        genai.types.HarmCategory.HARM_CATEGORY_DANGEROUS_CONTENT: genai.types.HarmBlockThreshold.BLOCK_NONE,\n",
        "    })\n",
        "\n",
        "    if USE_CUSTOM_PROMPT and CUSTOM_PROMPT.strip():\n",
        "        prompt = f\"{CUSTOM_PROMPT}\\n\\nمتن برای ترجمه:\\n{text}\"\n",
        "    else:\n",
        "        prompt = f\"\"\"متن زیر را به فارسی عامیانه و روان ترجمه کن. نکات مهم:\n",
        "\n",
        "    1. فقط ترجمه خالص و عامیانه، بدون هیچ توضیح اضافه حتی حق نداری به من بگی باشه و یا هر اضافه گویی\n",
        "    2. به شدت مهمه که تا معنای واقعی جملات رو درک نکنی حق ترجمه نداری\n",
        "    3. استفاده از زبان محاوره‌ای و روزمره\n",
        "    4. نباید ترجمه های مختلف رو بگی فقط مرتبط ترین ترجمه رو بدون توضیح اضافه بگو\n",
        "\n",
        "    متن برای ترجمه:\n",
        "    {text}\"\"\"\n",
        "\n",
        "    response = model.generate_content(prompt)\n",
        "    time.sleep(SLEEP_TIME)\n",
        "    return response.text\n",
        "\n",
        "# بارگذاری زیرنویس\n",
        "subs = pysrt.open(filename)\n",
        "\n",
        "# شروع ترجمه با نمایش پیشرفت\n",
        "with tqdm(total=len(subs), desc=\"ترجمه زیرنویس\") as pbar:\n",
        "    for i, sub in enumerate(subs):\n",
        "        try:\n",
        "            sub.text = translate_subtitle_with_retry(sub.text)\n",
        "            pbar.update(1)\n",
        "\n",
        "            # ایجاد بکاپ هر 20 دیالوگ\n",
        "            if (i + 1) % 20 == 0:\n",
        "                subs.save(\"backup.srt\", encoding='utf-8')\n",
        "                print(f\"\\nبکاپ تا دیالوگ {i+1} ذخیره شد\")\n",
        "\n",
        "        except Exception as e:\n",
        "            subs.save(\"backup.srt\", encoding='utf-8')\n",
        "            print(f\"\\nخطا در دیالوگ {i+1}. فایل بکاپ ذخیره شد\")\n",
        "            raise\n",
        "\n",
        "# ذخیره نهایی\n",
        "subs.save(filename.replace(\".srt\", \"_fa.srt\"), encoding='utf-8')\n",
        "print(\"\\nترجمه با موفقیت به پایان رسید!\")\n"
      ],
      "metadata": {
        "id": "qK_cbiXnBGPR",
        "cellView": "form"
      },
      "execution_count": null,
      "outputs": []
    },
    {
      "cell_type": "code",
      "source": [
        "\n",
        "#@title دانلود زیرنویس ترجمه شده\n",
        "from google.colab import files\n",
        "\n",
        "files.download(filename.replace(\".srt\", \"_fa.srt\"))"
      ],
      "metadata": {
        "cellView": "form",
        "id": "SJMP6HosYit-"
      },
      "execution_count": null,
      "outputs": []
    },
    {
      "cell_type": "markdown",
      "source": [
        "--------------------------------"
      ],
      "metadata": {
        "id": "--jlzgIpYt3R"
      }
    },
    {
      "cell_type": "markdown",
      "source": [
        "<font color=\"#FF0000\">─</font><font color=\"#0066cc\">─</font><font color=\"#FF0000\">─</font><font color=\"#0066cc\">─</font><font color=\"#FF0000\">─</font><font color=\"#0066cc\">─</font><font color=\"#FF0000\">─</font><font color=\"#0066cc\">─</font><font color=\"#FF0000\">─</font><font color=\"#0066cc\">─</font><font color=\"#FF0000\">─</font><font color=\"#0066cc\">─</font><font color=\"#FF0000\">─</font><font color=\"#0066cc\">─</font><font color=\"#FF0000\">─</font><font color=\"#0066cc\">─</font><font color=\"#FF0000\">─</font><font color=\"#0066cc\">─</font><font color=\"#FF0000\">─</font><font color=\"#0066cc\">─</font><font color=\"#FF0000\">─</font><font color=\"#0066cc\">─</font><font color=\"#FF0000\">─</font><font color=\"#0066cc\">─</font><font color=\"#FF0000\">─</font><font color=\"#0066cc\">─</font><font color=\"#FF0000\">─</font><font color=\"#0066cc\">─</font>"
      ],
      "metadata": {
        "id": "2r8nE0oXcIs5"
      }
    },
    {
      "cell_type": "code",
      "source": [
        "#@title ادامه ترجمه از آخرین بکاپ\n",
        "import pysrt\n",
        "import google.generativeai as genai\n",
        "from tqdm.notebook import tqdm\n",
        "import time\n",
        "from tenacity import retry, stop_after_attempt, wait_exponential\n",
        "\n",
        "#@markdown تنظیم زمان استراحت بین هر درخواست (ثانیه)\n",
        "SLEEP_TIME = 3 #@param {type:\"slider\", min:2, max:5, step:0.5}\n",
        "\n",
        "#@markdown #### شروع ترجمه از دیالوگ شماره:\n",
        "START_DIALOG = 0 #@param {type:\"integer\"}\n",
        "\n",
        "#@markdown #### انتخاب مدل هوش مصنوعی\n",
        "MODEL_NAME = \"gemini-1.5-flash\" #@param [\"gemini-2.0-flash-thinking-exp-01-21\", \"gemini-1.5-flash\"]\n",
        "#@markdown #### -----------------------------------------------------\n",
        "#@markdown #### (توصیه نمیشود) استفاده از پرامپت سفارشی\n",
        "USE_CUSTOM_PROMPT = False #@param {type:\"boolean\"}\n",
        "\n",
        "#@markdown #### تیک بالا مربوط به فعالسازی پرامپت سفارشی است . در حالت عادی نیازی به فعالسازی نیست\n",
        "#@markdown #### استفاده از پرامپت شخصی نیازمند آزمون خطاست و متن زیر فقط یک مثال است\n",
        "CUSTOM_PROMPT = \"متن زیر را به فارسی محاوره ای و به زبان کاملا عامیانه ترجمه کن بدون اینکه یک کلمه اضافه بگی و بدون اینکه توضیح اضافه بدی\" #@param {type:\"string\"}\n",
        "\n",
        "@retry(stop=stop_after_attempt(3), wait=wait_exponential(multiplier=1, min=4, max=10))\n",
        "def translate_subtitle_with_retry(text):\n",
        "    model = genai.GenerativeModel(MODEL_NAME, safety_settings={\n",
        "        genai.types.HarmCategory.HARM_CATEGORY_HARASSMENT: genai.types.HarmBlockThreshold.BLOCK_NONE,\n",
        "        genai.types.HarmCategory.HARM_CATEGORY_HATE_SPEECH: genai.types.HarmBlockThreshold.BLOCK_NONE,\n",
        "        genai.types.HarmCategory.HARM_CATEGORY_SEXUALLY_EXPLICIT: genai.types.HarmBlockThreshold.BLOCK_NONE,\n",
        "        genai.types.HarmCategory.HARM_CATEGORY_DANGEROUS_CONTENT: genai.types.HarmBlockThreshold.BLOCK_NONE,\n",
        "    })\n",
        "\n",
        "    if USE_CUSTOM_PROMPT and CUSTOM_PROMPT.strip():\n",
        "        prompt = f\"{CUSTOM_PROMPT}\\n\\nمتن برای ترجمه:\\n{text}\"\n",
        "    else:\n",
        "        prompt = f\"\"\"متن زیر را به فارسی عامیانه و روان ترجمه کن. نکات مهم:\n",
        "\n",
        "    1. فقط ترجمه خالص و عامیانه، بدون هیچ توضیح اضافه حتی حق نداری به من بگی باشه و یا هر اضافه گویی\n",
        "    2. به شدت مهمه که تا معنای واقعی جملات رو درک نکنی حق ترجمه نداری\n",
        "    3. استفاده از زبان محاوره‌ای و روزمره\n",
        "    4. نباید ترجمه های مختلف رو بگی فقط مرتبط ترین ترجمه رو بدون توضیح اضافه بگو\n",
        "\n",
        "    متن برای ترجمه:\n",
        "    {text}\"\"\"\n",
        "\n",
        "    response = model.generate_content(prompt)\n",
        "    time.sleep(SLEEP_TIME)\n",
        "    return response.text\n",
        "\n",
        "# بارگذاری زیرنویس از فایل بکاپ\n",
        "subs = pysrt.open(\"backup.srt\")\n",
        "print(f\"تعداد کل دیالوگ‌ها: {len(subs)}\")\n",
        "\n",
        "# شروع ترجمه با نمایش پیشرفت\n",
        "with tqdm(total=len(subs)-START_DIALOG+1, desc=\"ترجمه زیرنویس\") as pbar:\n",
        "    for i, sub in enumerate(subs[START_DIALOG-1:], start=START_DIALOG-1):\n",
        "        try:\n",
        "            sub.text = translate_subtitle_with_retry(sub.text)\n",
        "            pbar.update(1)\n",
        "\n",
        "            # ایجاد بکاپ هر 20 دیالوگ\n",
        "            if (i + 1) % 20 == 0:\n",
        "                subs.save(\"backup.srt\", encoding='utf-8')\n",
        "                print(f\"\\nبکاپ تا دیالوگ {i+1} ذخیره شد\")\n",
        "\n",
        "        except Exception as e:\n",
        "            subs.save(\"backup.srt\", encoding='utf-8')\n",
        "            print(f\"\\nخطا در دیالوگ {i+1}. فایل بکاپ ذخیره شد\")\n",
        "            raise\n",
        "\n",
        "# ذخیره نهایی\n",
        "subs.save(filename.replace(\".srt\", \"_fa.srt\"), encoding='utf-8')\n",
        "print(\"\\nترجمه با موفقیت به پایان رسید!\")\n"
      ],
      "metadata": {
        "cellView": "form",
        "id": "R2GmSy5LYxam"
      },
      "execution_count": null,
      "outputs": []
    },
    {
      "cell_type": "markdown",
      "source": [
        "<font color=\"#00FF00\">─</font><font color=\"#0066cc\">─</font><font color=\"#FF0000\">─</font><font color=\"#00FF00\">─</font><font color=\"#0066cc\">─</font><font color=\"#FF0000\">─</font><font color=\"#00FF00\">─</font><font color=\"#0066cc\">─</font><font color=\"#FF0000\">─</font><font color=\"#00FF00\">─</font><font color=\"#0066cc\">─</font><font color=\"#FF0000\">─</font><font color=\"#00FF00\">─</font><font color=\"#0066cc\">─</font><font color=\"#FF0000\">─</font><font color=\"#00FF00\">─</font><font color=\"#0066cc\">─</font><font color=\"#FF0000\">─</font><font color=\"#00FF00\">─</font><font color=\"#0066cc\">─</font><font color=\"#FF0000\">─</font><font color=\"#00FF00\">─</font><font color=\"#0066cc\">─</font><font color=\"#FF0000\">─</font><font color=\"#00FF00\">─</font><font color=\"#0066cc\">─</font><font color=\"#FF0000\">─</font>"
      ],
      "metadata": {
        "id": "-obGqF8BggpO"
      }
    },
    {
      "cell_type": "markdown",
      "source": [
        "<table><tr><td bgcolor=\"#40E0D0\">\n",
        "<font color=\"black\">این سلول فقط در صورتی قابل استفاده هست که شما قصد دارید<br>روزهای بعد ادامه ترجمه رو انجام بدین و به این فایل نیاز دارید</font>\n",
        "</td></tr></table>"
      ],
      "metadata": {
        "id": "8LtuwsU9eBQZ"
      }
    },
    {
      "cell_type": "code",
      "source": [
        "\n",
        "#@title دانلود آخرین فایل بکاپ\n",
        "from google.colab import files\n",
        "\n",
        "files.download(\"backup.srt\")"
      ],
      "metadata": {
        "cellView": "form",
        "id": "NJNNP2c4d0AJ"
      },
      "execution_count": null,
      "outputs": []
    }
  ]
}